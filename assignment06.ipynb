{
 "cells": [
  {
   "cell_type": "markdown",
   "id": "68511619-79db-404e-9a40-4bbf98c9804b",
   "metadata": {},
   "source": [
    "Question-No.1"
   ]
  },
  {
   "cell_type": "code",
   "execution_count": 8,
   "id": "5795885b-3b84-4da6-898e-e91f4b0617fc",
   "metadata": {},
   "outputs": [
    {
     "name": "stdin",
     "output_type": "stream",
     "text": [
      "Enter the pecentage 92\n"
     ]
    },
    {
     "name": "stdout",
     "output_type": "stream",
     "text": [
      "Grade A\n"
     ]
    }
   ],
   "source": [
    "num=int(input('Enter the pecentage'))\n",
    "if num>90:\n",
    "    print('Grade A')\n",
    "elif num>80 and num<=90:\n",
    "    print('Grade B')\n",
    "elif num>=60 and num <=80:\n",
    "    print('Grade C')\n",
    "else:\n",
    "    print('Grade D')"
   ]
  },
  {
   "cell_type": "markdown",
   "id": "8364f24d-6bfa-49bd-a581-bd1528813d10",
   "metadata": {},
   "source": [
    "Question-No.2"
   ]
  },
  {
   "cell_type": "code",
   "execution_count": 11,
   "id": "b819cee6-54ff-435f-a37f-9351158b4373",
   "metadata": {},
   "outputs": [
    {
     "name": "stdin",
     "output_type": "stream",
     "text": [
      "Enter the cost price of a bike 4557889\n"
     ]
    },
    {
     "name": "stdout",
     "output_type": "stream",
     "text": [
      "paid 15% road tax\n"
     ]
    }
   ],
   "source": [
    "price=int(input('Enter the cost price of a bike'))\n",
    "if price>100000:\n",
    "    print('paid 15% road tax')\n",
    "elif price>50000 and price<=100000:\n",
    "    print('paid 10% road tax')\n",
    "else:\n",
    "    print('paid 5% road tax')"
   ]
  },
  {
   "cell_type": "markdown",
   "id": "1e5975fa-54dd-4d5f-befd-b7b31c9aac48",
   "metadata": {},
   "source": [
    "Question-No.3"
   ]
  },
  {
   "cell_type": "markdown",
   "id": "070196a8-d287-4726-a24e-d75d5de65d4b",
   "metadata": {},
   "source": [
    "monuments_dict={\n",
    "        'agra':['Taj Mahal'],'delhi' : ['Red fort'], 'jaipur' : ['jalmahal']}\n",
    "\n",
    "city = input('Enter a city name:').lower()\n",
    "if city in monuments_dict:\n",
    "    monuments= monuments_dict[city]\n",
    "    print(f\"the munuments in {city.title()} are:\")\n",
    "    for monument in monuments:\n",
    "        print(f\"- {monument}\")\n",
    "else:\n",
    "    print(f\"sorry,we don't have a list of monuments for {city.title()}\")"
   ]
  },
  {
   "cell_type": "markdown",
   "id": "99afe822-2e72-40be-8d71-41edc0fcb13a",
   "metadata": {},
   "source": [
    "Question-no.4"
   ]
  },
  {
   "cell_type": "code",
   "execution_count": 25,
   "id": "62c3658a-2782-489e-9be8-4abcbaffa45e",
   "metadata": {},
   "outputs": [
    {
     "name": "stdin",
     "output_type": "stream",
     "text": [
      "Enter a number:  8754\n"
     ]
    },
    {
     "name": "stdout",
     "output_type": "stream",
     "text": [
      "The given number can be divided by 3 to 7 times before it becomes less than or equal to 10.\n"
     ]
    }
   ],
   "source": [
    "number = int(input(\"Enter a number: \"))\n",
    "count = 0\n",
    "\n",
    "while number >= 10:\n",
    "    number /= 3\n",
    "    count += 1\n",
    "\n",
    "print(f\"The given number can be divided by 3 to {count} times before it becomes less than or equal to 10.\")\n"
   ]
  },
  {
   "cell_type": "markdown",
   "id": "859f0c5f-0cea-4519-acb8-96ecc7ca0537",
   "metadata": {},
   "source": [
    "Question.No-5"
   ]
  },
  {
   "cell_type": "markdown",
   "id": "a068dfb5-18ae-4043-b1b4-9fc8ed2c37c5",
   "metadata": {},
   "source": [
    "While Loop:- while loop is used to execute a block of statement repeatedly until a given condition is satisfied. and when the condition is false ,the line immediately afer the loop in the program is executed"
   ]
  },
  {
   "cell_type": "code",
   "execution_count": 27,
   "id": "dd4cbe74-4f73-4059-a582-2f7481632429",
   "metadata": {},
   "outputs": [
    {
     "name": "stdout",
     "output_type": "stream",
     "text": [
      "pwskills\n",
      "pwskills\n",
      "pwskills\n"
     ]
    }
   ],
   "source": [
    "i=0\n",
    "while i<3:\n",
    "    print('pwskills')\n",
    "    i+=1"
   ]
  },
  {
   "cell_type": "markdown",
   "id": "6478f5e4-6216-453a-88cb-740ba66b2f2a",
   "metadata": {},
   "source": [
    "Question-No.6"
   ]
  },
  {
   "cell_type": "code",
   "execution_count": 28,
   "id": "7c138bf1-3743-4279-a396-fe9b01a16b32",
   "metadata": {},
   "outputs": [
    {
     "name": "stdout",
     "output_type": "stream",
     "text": [
      "1 \n",
      "1 2 \n",
      "1 2 3 \n",
      "1 2 3 4 \n",
      "1 2 3 4 5 \n"
     ]
    }
   ],
   "source": [
    "i = 1\n",
    "\n",
    "while i <= 5:\n",
    "    j = 1\n",
    "    while j <= i:\n",
    "        print(j, end=\" \")\n",
    "        j += 1\n",
    "    print()\n",
    "    i += 1"
   ]
  },
  {
   "cell_type": "markdown",
   "id": "b925e22f-2271-453f-9005-905c8432dba3",
   "metadata": {},
   "source": [
    "Question-No.7"
   ]
  },
  {
   "cell_type": "code",
   "execution_count": 1,
   "id": "e2506eff-60b9-455f-abe2-8c9e0a309a34",
   "metadata": {},
   "outputs": [
    {
     "name": "stdout",
     "output_type": "stream",
     "text": [
      "10\n",
      "9\n",
      "8\n",
      "7\n",
      "6\n",
      "5\n",
      "4\n",
      "3\n",
      "2\n",
      "1\n"
     ]
    }
   ],
   "source": [
    "num = 10\n",
    "while num >= 1:\n",
    "    print (num)\n",
    "    num -= 1"
   ]
  },
  {
   "cell_type": "code",
   "execution_count": null,
   "id": "bab27ff8-9dd9-471d-9b2b-61dd3f75fb81",
   "metadata": {},
   "outputs": [],
   "source": []
  }
 ],
 "metadata": {
  "kernelspec": {
   "display_name": "Python 3 (ipykernel)",
   "language": "python",
   "name": "python3"
  },
  "language_info": {
   "codemirror_mode": {
    "name": "ipython",
    "version": 3
   },
   "file_extension": ".py",
   "mimetype": "text/x-python",
   "name": "python",
   "nbconvert_exporter": "python",
   "pygments_lexer": "ipython3",
   "version": "3.10.8"
  }
 },
 "nbformat": 4,
 "nbformat_minor": 5
}
